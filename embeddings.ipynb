{
 "cells": [
  {
   "cell_type": "markdown",
   "id": "645c8dd9-2826-4d3d-892c-5519acb582a6",
   "metadata": {},
   "source": [
    "# Embeddings with GPT2 and Hugging Face"
   ]
  },
  {
   "cell_type": "markdown",
   "id": "4daa4f87-b989-4ab1-97ba-c1a723421e97",
   "metadata": {},
   "source": [
    "## Load Libraries"
   ]
  },
  {
   "cell_type": "code",
   "execution_count": 4,
   "id": "ea864900-5864-4e3b-a191-af2947332701",
   "metadata": {},
   "outputs": [],
   "source": [
    "# May need to run the following command to install Hugging Face\n",
    "# !pip install transformers\n",
    "\n",
    "from transformers import AutoTokenizer, AutoModel, pipeline"
   ]
  },
  {
   "cell_type": "markdown",
   "id": "251e4c11-0bd3-4876-ae87-adcf934d6362",
   "metadata": {},
   "source": [
    "## Get Embeddings"
   ]
  },
  {
   "cell_type": "code",
   "execution_count": 5,
   "id": "bad6ed94-5da1-4490-b7a5-b864b9495469",
   "metadata": {},
   "outputs": [],
   "source": [
    "sequence = 'AI will support banks by'"
   ]
  },
  {
   "cell_type": "code",
   "execution_count": 6,
   "id": "b54bcb71-1287-40fa-9c87-690f0bdccf29",
   "metadata": {},
   "outputs": [],
   "source": [
    "tokenizer = AutoTokenizer.from_pretrained('gpt2')\n",
    "tokenizer.add_special_tokens({'pad_token': '[PAD]'})\n",
    "\n",
    "model = AutoModel.from_pretrained('gpt2')\n",
    "model.resize_token_embeddings(len(tokenizer))\n",
    "\n",
    "pipe = pipeline('feature-extraction', model=model, tokenizer=tokenizer)"
   ]
  },
  {
   "cell_type": "code",
   "execution_count": 14,
   "id": "e7397d57-314d-470e-be26-509da7fd3f52",
   "metadata": {},
   "outputs": [],
   "source": [
    "embeddings = pipe(sequence)[0][-1]"
   ]
  },
  {
   "cell_type": "code",
   "execution_count": 16,
   "id": "aebb2d0e-53bc-46c0-95fb-e9a0867463ea",
   "metadata": {},
   "outputs": [
    {
     "name": "stdout",
     "output_type": "stream",
     "text": [
      "[-0.06883241981267929, -0.6803727149963379, -0.42244255542755127, 0.08740345388650894, 0.13928468525409698, -0.1069195568561554, -0.08382505178451538, 0.11456083506345749, 0.4411948323249817, 0.005685421638190746]\n"
     ]
    }
   ],
   "source": [
    "# Vector of 768 numbers representing the sequence\n",
    "# Print the first ten \n",
    "print(embeddings[:10])"
   ]
  }
 ],
 "metadata": {
  "kernelspec": {
   "display_name": "Python 3 (ipykernel)",
   "language": "python",
   "name": "python3"
  },
  "language_info": {
   "codemirror_mode": {
    "name": "ipython",
    "version": 3
   },
   "file_extension": ".py",
   "mimetype": "text/x-python",
   "name": "python",
   "nbconvert_exporter": "python",
   "pygments_lexer": "ipython3",
   "version": "3.10.11"
  }
 },
 "nbformat": 4,
 "nbformat_minor": 5
}
