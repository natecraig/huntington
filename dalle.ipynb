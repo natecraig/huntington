{
 "cells": [
  {
   "cell_type": "markdown",
   "id": "9d7a39a8-6cde-428f-bbef-de7c3f310ead",
   "metadata": {},
   "source": [
    "# Generating Images with DALL·E 2"
   ]
  },
  {
   "cell_type": "markdown",
   "id": "bfeda8e1-ff01-412d-89bf-750bd72d8a44",
   "metadata": {},
   "source": [
    "## Load Libraries"
   ]
  },
  {
   "cell_type": "code",
   "execution_count": 1,
   "id": "36c6d1bc-b0d1-4543-96c9-0dff306a5933",
   "metadata": {},
   "outputs": [],
   "source": [
    "# Installing OpenAI:\n",
    "# pip install openai\n",
    "\n",
    "import os\n",
    "import requests\n",
    "import openai\n",
    "import IPython.display as Display\n",
    "\n",
    "# Note: see instructions for OpenAI setup at\n",
    "# https://github.com/openai/openai-python\n",
    "openai.api_key = os.getenv('OPENAI_API_KEY')"
   ]
  },
  {
   "cell_type": "markdown",
   "id": "eeb05a9f-2144-443a-8351-fe741e25e570",
   "metadata": {},
   "source": [
    "## Image Generation with DALL·E 2\n",
    "\n",
    "For parameter definitions, see https://platform.openai.com/docs/api-reference/images."
   ]
  },
  {
   "cell_type": "code",
   "execution_count": 11,
   "id": "61e29e6f-2065-41d7-b7de-a6614eb4b131",
   "metadata": {},
   "outputs": [
    {
     "data": {
      "text/html": [
       "<img src=\"https://oaidalleapiprodscus.blob.core.windows.net/private/org-6jB6QekYbgXplE7UDYE3c9LJ/user-Rmkf3bFHVa4icsO73KEN51dA/img-jAWQKjicQuirwXgVHDFfa8rQ.png?st=2023-06-27T22%3A59%3A13Z&se=2023-06-28T00%3A59%3A13Z&sp=r&sv=2021-08-06&sr=b&rscd=inline&rsct=image/png&skoid=6aaadede-4fb3-4698-a8f6-684d7786b067&sktid=a48cca56-e6da-484e-a814-9c849652bcb3&skt=2023-06-27T00%3A07%3A19Z&ske=2023-06-28T00%3A07%3A19Z&sks=b&skv=2021-08-06&sig=cbj/ZTBAlXAfdKqlkqVPGU7yih4%2BiV%2BqQ4ktNwwWLlI%3D\"/>"
      ],
      "text/plain": [
       "<IPython.core.display.Image object>"
      ]
     },
     "execution_count": 11,
     "metadata": {},
     "output_type": "execute_result"
    }
   ],
   "source": [
    "prompt = 'Robot riding a bicycle by Johannes Vermeer'\n",
    "response = openai.Image.create(prompt=prompt, n=1, size='1024x1024')\n",
    "Display.Image(url=response['data'][0]['url'])"
   ]
  }
 ],
 "metadata": {
  "kernelspec": {
   "display_name": "Python 3 (ipykernel)",
   "language": "python",
   "name": "python3"
  },
  "language_info": {
   "codemirror_mode": {
    "name": "ipython",
    "version": 3
   },
   "file_extension": ".py",
   "mimetype": "text/x-python",
   "name": "python",
   "nbconvert_exporter": "python",
   "pygments_lexer": "ipython3",
   "version": "3.10.11"
  }
 },
 "nbformat": 4,
 "nbformat_minor": 5
}
